{
 "cells": [
  {
   "cell_type": "code",
   "execution_count": 1,
   "metadata": {
    "execution": {
     "iopub.execute_input": "2025-05-31T14:57:18.161774Z",
     "iopub.status.busy": "2025-05-31T14:57:18.161239Z",
     "iopub.status.idle": "2025-05-31T14:57:42.848187Z",
     "shell.execute_reply": "2025-05-31T14:57:42.847638Z",
     "shell.execute_reply.started": "2025-05-31T14:57:18.161742Z"
    },
    "trusted": true
   },
   "outputs": [
    {
     "name": "stderr",
     "output_type": "stream",
     "text": [
      "2025-05-31 14:57:28.966997: E external/local_xla/xla/stream_executor/cuda/cuda_fft.cc:477] Unable to register cuFFT factory: Attempting to register factory for plugin cuFFT when one has already been registered\n",
      "WARNING: All log messages before absl::InitializeLog() is called are written to STDERR\n",
      "E0000 00:00:1748703449.156892      35 cuda_dnn.cc:8310] Unable to register cuDNN factory: Attempting to register factory for plugin cuDNN when one has already been registered\n",
      "E0000 00:00:1748703449.209574      35 cuda_blas.cc:1418] Unable to register cuBLAS factory: Attempting to register factory for plugin cuBLAS when one has already been registered\n"
     ]
    }
   ],
   "source": [
    "import os\n",
    "import shutil # Untuk menyalin file nanti (opsional, jika ingin membuat struktur folder train/val/test)\n",
    "import random # Untuk pembagian data\n",
    "import numpy as np\n",
    "import pandas as pd # Berguna untuk manajemen daftar file\n",
    "from PIL import Image # Untuk memuat gambar\n",
    "import copy\n",
    "\n",
    "import torch\n",
    "import torch.nn as nn\n",
    "import torch.optim as optim\n",
    "from torch.utils.data import Dataset, DataLoader\n",
    "from torchvision import transforms as T\n",
    "from transformers import ViTImageProcessor, ViTForImageClassification\n",
    "\n",
    "from sklearn.model_selection import train_test_split\n",
    "from sklearn.metrics import accuracy_score, classification_report, confusion_matrix\n",
    "import matplotlib.pyplot as plt\n",
    "import seaborn as sns\n",
    "from tqdm.auto import tqdm"
   ]
  },
  {
   "cell_type": "markdown",
   "metadata": {},
   "source": [
    "## 1. KONFIGURASI"
   ]
  },
  {
   "cell_type": "code",
   "execution_count": 2,
   "metadata": {
    "execution": {
     "iopub.execute_input": "2025-05-31T14:57:42.849788Z",
     "iopub.status.busy": "2025-05-31T14:57:42.849325Z",
     "iopub.status.idle": "2025-05-31T14:57:42.859649Z",
     "shell.execute_reply": "2025-05-31T14:57:42.858857Z",
     "shell.execute_reply.started": "2025-05-31T14:57:42.849769Z"
    },
    "trusted": true
   },
   "outputs": [
    {
     "name": "stdout",
     "output_type": "stream",
     "text": [
      "Menggunakan device: cuda\n",
      "Model: google/vit-base-patch16-224\n",
      "Jumlah kelas: 2\n",
      "Path model akan disimpan di: /kaggle/working/best_vit_malaria_model.pth\n",
      "Early Stopping Patience: 5, Min Delta: 0.0001\n"
     ]
    }
   ],
   "source": [
    "MODEL_NAME = \"google/vit-base-patch16-224\"\n",
    "NUM_CLASSES = 2  # Parasitized dan Uninfected\n",
    "BATCH_SIZE = 32 # Sesuaikan dengan VRAM Kaggle (P100/T4 biasanya bisa batch 32-64)\n",
    "LEARNING_RATE = 1e-4\n",
    "NUM_EPOCHS = 50 # Jumlah epoch bisa ditambah karena ada early stopping\n",
    "DEVICE = torch.device(\"cuda\" if torch.cuda.is_available() else \"cpu\")\n",
    "\n",
    "# Path dataset di Kaggle\n",
    "BASE_DATA_DIR = \"/kaggle/input/cell-images-for-detecting-malaria/cell_images/cell_images/\"\n",
    "PARASITIZED_DIR = os.path.join(BASE_DATA_DIR, \"Parasitized\")\n",
    "UNINFECTED_DIR = os.path.join(BASE_DATA_DIR, \"Uninfected\")\n",
    "\n",
    "MODEL_SAVE_PATH = \"/kaggle/working/best_vit_malaria_model.pth\"\n",
    "\n",
    "# Konfigurasi Early Stopping\n",
    "PATIENCE_EARLY_STOPPING = 5\n",
    "DELTA_EARLY_STOPPING = 0.0001 # Akurasi harus meningkat minimal 0.1%\n",
    "\n",
    "print(f\"Menggunakan device: {DEVICE}\")\n",
    "print(f\"Model: {MODEL_NAME}\")\n",
    "print(f\"Jumlah kelas: {NUM_CLASSES}\")\n",
    "print(f\"Path model akan disimpan di: {MODEL_SAVE_PATH}\")\n",
    "print(f\"Early Stopping Patience: {PATIENCE_EARLY_STOPPING}, Min Delta: {DELTA_EARLY_STOPPING}\")\n",
    "\n",
    "# --- Kelas EarlyStopping (sama seperti sebelumnya) ---\n",
    "class EarlyStopping:\n",
    "    def __init__(self, patience=7, verbose=True, delta=0, path='checkpoint.pt', trace_func=print, mode='max'):\n",
    "        self.patience = patience\n",
    "        self.verbose = verbose\n",
    "        self.counter = 0\n",
    "        self.best_score = None\n",
    "        self.early_stop = False\n",
    "        self.val_metric_at_best_score = -np.Inf if mode == 'max' else np.Inf\n",
    "        self.delta = delta\n",
    "        self.path = path\n",
    "        self.trace_func = trace_func\n",
    "        self.mode = mode\n",
    "        self.best_model_wts = None\n",
    "\n",
    "    def __call__(self, val_metric, model):\n",
    "        score = val_metric\n",
    "        is_improvement = False\n",
    "        if self.mode == 'max':\n",
    "            if score > self.val_metric_at_best_score + self.delta:\n",
    "                is_improvement = True\n",
    "        else:\n",
    "            if score < self.val_metric_at_best_score - self.delta:\n",
    "                is_improvement = True\n",
    "\n",
    "        if self.best_score is None:\n",
    "            self.best_score = score\n",
    "            if is_improvement or self.val_metric_at_best_score == (-np.Inf if self.mode == 'max' else np.Inf):\n",
    "                 self.val_metric_at_best_score = score\n",
    "                 self.save_checkpoint(val_metric, model)\n",
    "        elif is_improvement:\n",
    "            if self.verbose:\n",
    "                self.trace_func(f'Validation metric ({self.mode}) improved ({self.val_metric_at_best_score:.6f} --> {score:.6f}). Menyimpan model ke {self.path} ...')\n",
    "            self.best_score = score\n",
    "            self.val_metric_at_best_score = score\n",
    "            self.save_checkpoint(val_metric, model)\n",
    "            self.counter = 0\n",
    "        else:\n",
    "            self.counter += 1\n",
    "            if self.verbose:\n",
    "                self.trace_func(f'EarlyStopping counter: {self.counter} dari {self.patience}')\n",
    "            if self.counter >= self.patience:\n",
    "                self.early_stop = True\n",
    "\n",
    "    def save_checkpoint(self, val_metric, model):\n",
    "        self.best_model_wts = copy.deepcopy(model.state_dict())\n",
    "        torch.save(self.best_model_wts, self.path)"
   ]
  },
  {
   "cell_type": "markdown",
   "metadata": {},
   "source": [
    "## 2. MEMUAT IMAGE PROCESSOR DAN MODEL"
   ]
  },
  {
   "cell_type": "code",
   "execution_count": 3,
   "metadata": {
    "execution": {
     "iopub.execute_input": "2025-05-31T14:57:42.860902Z",
     "iopub.status.busy": "2025-05-31T14:57:42.860477Z",
     "iopub.status.idle": "2025-05-31T14:57:46.343489Z",
     "shell.execute_reply": "2025-05-31T14:57:46.342931Z",
     "shell.execute_reply.started": "2025-05-31T14:57:42.860831Z"
    },
    "trusted": true
   },
   "outputs": [
    {
     "data": {
      "application/vnd.jupyter.widget-view+json": {
       "model_id": "6b06c9c7f4f74e3880321f176ca2402f",
       "version_major": 2,
       "version_minor": 0
      },
      "text/plain": [
       "preprocessor_config.json:   0%|          | 0.00/160 [00:00<?, ?B/s]"
      ]
     },
     "metadata": {},
     "output_type": "display_data"
    },
    {
     "data": {
      "application/vnd.jupyter.widget-view+json": {
       "model_id": "5b9d27c0d5184d57a6a7ed8c30b1f2b8",
       "version_major": 2,
       "version_minor": 0
      },
      "text/plain": [
       "config.json:   0%|          | 0.00/69.7k [00:00<?, ?B/s]"
      ]
     },
     "metadata": {},
     "output_type": "display_data"
    },
    {
     "data": {
      "application/vnd.jupyter.widget-view+json": {
       "model_id": "fea9d02c26ec4046a3d41700c76f4dbe",
       "version_major": 2,
       "version_minor": 0
      },
      "text/plain": [
       "model.safetensors:   0%|          | 0.00/346M [00:00<?, ?B/s]"
      ]
     },
     "metadata": {},
     "output_type": "display_data"
    },
    {
     "name": "stderr",
     "output_type": "stream",
     "text": [
      "Some weights of ViTForImageClassification were not initialized from the model checkpoint at google/vit-base-patch16-224 and are newly initialized because the shapes did not match:\n",
      "- classifier.bias: found shape torch.Size([1000]) in the checkpoint and torch.Size([2]) in the model instantiated\n",
      "- classifier.weight: found shape torch.Size([1000, 768]) in the checkpoint and torch.Size([2, 768]) in the model instantiated\n",
      "You should probably TRAIN this model on a down-stream task to be able to use it for predictions and inference.\n"
     ]
    }
   ],
   "source": [
    "try:\n",
    "    image_processor = ViTImageProcessor.from_pretrained(MODEL_NAME)\n",
    "    model = ViTForImageClassification.from_pretrained(\n",
    "        MODEL_NAME,\n",
    "        num_labels=NUM_CLASSES,\n",
    "        ignore_mismatched_sizes=True # Penting jika mengganti head klasifikasi\n",
    "    )\n",
    "    model.to(DEVICE)\n",
    "except Exception as e:\n",
    "    print(f\"Error saat memuat model atau processor: {e}\")\n",
    "    print(\"Pastikan Anda memiliki koneksi internet (di Kaggle, aktifkan di Settings).\")\n",
    "    # exit() # Sebaiknya jangan exit di notebook, biarkan error muncul"
   ]
  },
  {
   "cell_type": "markdown",
   "metadata": {},
   "source": [
    "## 3. PERSIAPAN DATA"
   ]
  },
  {
   "cell_type": "code",
   "execution_count": 4,
   "metadata": {
    "execution": {
     "iopub.execute_input": "2025-05-31T14:57:46.345861Z",
     "iopub.status.busy": "2025-05-31T14:57:46.345533Z",
     "iopub.status.idle": "2025-05-31T14:57:47.622660Z",
     "shell.execute_reply": "2025-05-31T14:57:47.621889Z",
     "shell.execute_reply.started": "2025-05-31T14:57:46.345841Z"
    },
    "trusted": true
   },
   "outputs": [
    {
     "name": "stdout",
     "output_type": "stream",
     "text": [
      "Jumlah data train: 22046\n",
      "Jumlah data validation: 2756\n",
      "Jumlah data test: 2756\n",
      "Contoh file train: /kaggle/input/cell-images-for-detecting-malaria/cell_images/cell_images/Parasitized/C172P133ThinF_IMG_20151119_155343_cell_287.png, Label: 0\n",
      "Target size untuk augmentasi (RandomResizedCrop): (224, 224)\n",
      "Jumlah batch di train_loader: 689\n",
      "Contoh data dari train_loader (1 batch):\n",
      "Bentuk tensor gambar: torch.Size([32, 3, 224, 224]), Bentuk tensor label: torch.Size([32])\n"
     ]
    }
   ],
   "source": [
    "# Mendapatkan daftar semua file gambar dan labelnya\n",
    "parasitized_files = [os.path.join(PARASITIZED_DIR, f) for f in os.listdir(PARASITIZED_DIR) if f.endswith('.png')]\n",
    "uninfected_files = [os.path.join(UNINFECTED_DIR, f) for f in os.listdir(UNINFECTED_DIR) if f.endswith('.png')]\n",
    "\n",
    "# Label: 0 untuk Parasitized, 1 untuk Uninfected (atau sebaliknya, pastikan konsisten)\n",
    "# Mari kita gunakan: Parasitized = 0, Uninfected = 1\n",
    "# Jika menggunakan ImageFolder, urutan kelas biasanya alfabetis.\n",
    "# Di sini kita kontrol manual, jadi lebih fleksibel.\n",
    "# Kelas yang diharapkan oleh model (jika ImageFolder): {'Parasitized': 0, 'Uninfected': 1}\n",
    "# Kita akan buat label: Parasitized = 0, Uninfected = 1\n",
    "labels_parasitized = [0] * len(parasitized_files)\n",
    "labels_uninfected = [1] * len(uninfected_files)\n",
    "\n",
    "all_files = parasitized_files + uninfected_files\n",
    "all_labels = labels_parasitized + labels_uninfected\n",
    "\n",
    "# Pembagian data: 80% train, 10% validation, 10% test\n",
    "# Pertama, bagi menjadi train dan temp (val+test)\n",
    "train_files, temp_files, train_labels, temp_labels = train_test_split(\n",
    "    all_files, all_labels, test_size=0.2, stratify=all_labels, random_state=42\n",
    ")\n",
    "# Kemudian, bagi temp menjadi validation dan test\n",
    "val_files, test_files, val_labels, test_labels = train_test_split(\n",
    "    temp_files, temp_labels, test_size=0.5, stratify=temp_labels, random_state=42 # 0.5 dari 0.2 = 0.1\n",
    ")\n",
    "\n",
    "print(f\"Jumlah data train: {len(train_files)}\")\n",
    "print(f\"Jumlah data validation: {len(val_files)}\")\n",
    "print(f\"Jumlah data test: {len(test_files)}\")\n",
    "print(f\"Contoh file train: {train_files[0]}, Label: {train_labels[0]}\")\n",
    "\n",
    "# --- Dataset Kustom PyTorch ---\n",
    "class MalariaDataset(Dataset):\n",
    "    def __init__(self, file_paths, labels, transform=None):\n",
    "        self.file_paths = file_paths\n",
    "        self.labels = labels\n",
    "        self.transform = transform\n",
    "        # Tentukan class_to_idx agar konsisten dengan apa yang mungkin dihasilkan ImageFolder\n",
    "        self.class_to_idx = {'Parasitized': 0, 'Uninfected': 1}\n",
    "        self.classes = ['Parasitized', 'Uninfected']\n",
    "\n",
    "\n",
    "    def __len__(self):\n",
    "        return len(self.file_paths)\n",
    "\n",
    "    def __getitem__(self, idx):\n",
    "        img_path = self.file_paths[idx]\n",
    "        try:\n",
    "            image = Image.open(img_path).convert(\"RGB\") # Pastikan RGB\n",
    "        except FileNotFoundError:\n",
    "            print(f\"Error: File tidak ditemukan di {img_path}\")\n",
    "            # Kembalikan dummy data atau raise error\n",
    "            # Untuk sekarang, kita raise error agar masalah diketahui\n",
    "            raise FileNotFoundError(f\"File tidak ditemukan {img_path}\")\n",
    "        except Exception as e:\n",
    "            print(f\"Error saat memuat gambar {img_path}: {e}\")\n",
    "            # Kembalikan dummy data atau raise error\n",
    "            raise e\n",
    "\n",
    "\n",
    "        label = self.labels[idx]\n",
    "        if self.transform:\n",
    "            image = self.transform(image)\n",
    "        return image, label\n",
    "\n",
    "# --- Transformasi Data (sama seperti sebelumnya) ---\n",
    "def vit_core_processor_transform(pil_image, processor):\n",
    "    # image_processor sudah menghandle konversi ke RGB jika inputnya PIL Image\n",
    "    # dan parameternya do_convert_rgb=True (default)\n",
    "    # return processor(images=pil_image, return_tensors='pt')['pixel_values'].squeeze(0) # squeeze(0) jika batch_size=1\n",
    "    # Jika dipanggil dari transform di Dataset, yang diproses satu gambar, maka squeeze(0) benar.\n",
    "    # Untuk ViTImageProcessor, dia bisa handle PIL image langsung.\n",
    "    processed_output = processor(images=pil_image, return_tensors='pt')\n",
    "    return processed_output['pixel_values'].squeeze(0)\n",
    "\n",
    "\n",
    "try:\n",
    "    if isinstance(image_processor.size, dict):\n",
    "        if 'height' in image_processor.size and 'width' in image_processor.size:\n",
    "            target_size = (image_processor.size['height'], image_processor.size['width'])\n",
    "        elif 'shortest_edge' in image_processor.size:\n",
    "            s_edge = image_processor.size['shortest_edge']\n",
    "            target_size = (s_edge, s_edge)\n",
    "        else: target_size = (224, 224) # Fallback\n",
    "    elif isinstance(image_processor.size, int): target_size = (image_processor.size, image_processor.size)\n",
    "    else: target_size = (224, 224) # Fallback\n",
    "except AttributeError: target_size = (224, 224) # Fallback\n",
    "except Exception: target_size = (224, 224) # Fallback\n",
    "\n",
    "print(f\"Target size untuk augmentasi (RandomResizedCrop): {target_size}\")\n",
    "\n",
    "train_transforms = T.Compose([\n",
    "    T.RandomResizedCrop(target_size, scale=(0.8, 1.0), ratio=(0.75, 1.33)),\n",
    "    T.RandomRotation(degrees=20), # Tingkatkan sedikit rotasi\n",
    "    T.ColorJitter(brightness=0.25, contrast=0.25, saturation=0.25, hue=0.12), # Tingkatkan sedikit jitter\n",
    "    T.RandomHorizontalFlip(),\n",
    "    T.RandomVerticalFlip(), # Tambahkan vertical flip, bisa relevan untuk sel\n",
    "    lambda img: vit_core_processor_transform(img, image_processor)\n",
    "])\n",
    "\n",
    "val_test_transforms = T.Compose([\n",
    "    # ViTImageProcessor akan menangani resize ke target_size yang sesuai konfigurasinya\n",
    "    lambda img: vit_core_processor_transform(img, image_processor)\n",
    "])\n",
    "\n",
    "# Membuat instance Dataset\n",
    "train_dataset = MalariaDataset(train_files, train_labels, transform=train_transforms)\n",
    "val_dataset = MalariaDataset(val_files, val_labels, transform=val_test_transforms)\n",
    "test_dataset = MalariaDataset(test_files, test_labels, transform=val_test_transforms)\n",
    "\n",
    "# Membuat DataLoader\n",
    "train_loader = DataLoader(train_dataset, batch_size=BATCH_SIZE, shuffle=True, num_workers=0) # num_workers=2 standar di Kaggle\n",
    "val_loader = DataLoader(val_dataset, batch_size=BATCH_SIZE, shuffle=False, num_workers=0)\n",
    "test_loader = DataLoader(test_dataset, batch_size=BATCH_SIZE, shuffle=False, num_workers=0)\n",
    "\n",
    "print(f\"Jumlah batch di train_loader: {len(train_loader)}\")\n",
    "print(f\"Contoh data dari train_loader (1 batch):\")\n",
    "try:\n",
    "    sample_images, sample_labels = next(iter(train_loader))\n",
    "    print(f\"Bentuk tensor gambar: {sample_images.shape}, Bentuk tensor label: {sample_labels.shape}\")\n",
    "except Exception as e:\n",
    "    print(f\"Error saat mengambil sampel dari train_loader: {e}\")"
   ]
  },
  {
   "cell_type": "markdown",
   "metadata": {},
   "source": [
    "## 4. TRAINING"
   ]
  },
  {
   "cell_type": "code",
   "execution_count": 5,
   "metadata": {
    "execution": {
     "iopub.execute_input": "2025-05-31T14:57:47.623814Z",
     "iopub.status.busy": "2025-05-31T14:57:47.623480Z",
     "iopub.status.idle": "2025-05-31T16:57:45.109422Z",
     "shell.execute_reply": "2025-05-31T16:57:45.108767Z",
     "shell.execute_reply.started": "2025-05-31T14:57:47.623796Z"
    },
    "trusted": true
   },
   "outputs": [
    {
     "name": "stdout",
     "output_type": "stream",
     "text": [
      "\n",
      "Memulai Training...\n"
     ]
    },
    {
     "data": {
      "application/vnd.jupyter.widget-view+json": {
       "model_id": "636c0509764149b3a24f22c41432d214",
       "version_major": 2,
       "version_minor": 0
      },
      "text/plain": [
       "Epoch 1/50 [Training]:   0%|          | 0/689 [00:00<?, ?it/s]"
      ]
     },
     "metadata": {},
     "output_type": "display_data"
    },
    {
     "data": {
      "application/vnd.jupyter.widget-view+json": {
       "model_id": "579040b956154dc2a1c56e378d7d209e",
       "version_major": 2,
       "version_minor": 0
      },
      "text/plain": [
       "Epoch 1/50 [Validasi]:   0%|          | 0/87 [00:00<?, ?it/s]"
      ]
     },
     "metadata": {},
     "output_type": "display_data"
    },
    {
     "name": "stdout",
     "output_type": "stream",
     "text": [
      "Epoch 1/50 - Train Loss: 0.1257, Train Acc: 0.9571 - Val Loss: 0.0960, Val Acc: 0.9666\n"
     ]
    },
    {
     "data": {
      "application/vnd.jupyter.widget-view+json": {
       "model_id": "1edb9356b02a4fbea135b69451e5cedb",
       "version_major": 2,
       "version_minor": 0
      },
      "text/plain": [
       "Epoch 2/50 [Training]:   0%|          | 0/689 [00:00<?, ?it/s]"
      ]
     },
     "metadata": {},
     "output_type": "display_data"
    },
    {
     "data": {
      "application/vnd.jupyter.widget-view+json": {
       "model_id": "45d4a9f0f9a84bd683d92a1d81937851",
       "version_major": 2,
       "version_minor": 0
      },
      "text/plain": [
       "Epoch 2/50 [Validasi]:   0%|          | 0/87 [00:00<?, ?it/s]"
      ]
     },
     "metadata": {},
     "output_type": "display_data"
    },
    {
     "name": "stdout",
     "output_type": "stream",
     "text": [
      "Epoch 2/50 - Train Loss: 0.0996, Train Acc: 0.9651 - Val Loss: 0.1222, Val Acc: 0.9652\n",
      "EarlyStopping counter: 1 dari 5\n"
     ]
    },
    {
     "data": {
      "application/vnd.jupyter.widget-view+json": {
       "model_id": "07539fca5c694b618037cf54e70533d9",
       "version_major": 2,
       "version_minor": 0
      },
      "text/plain": [
       "Epoch 3/50 [Training]:   0%|          | 0/689 [00:00<?, ?it/s]"
      ]
     },
     "metadata": {},
     "output_type": "display_data"
    },
    {
     "data": {
      "application/vnd.jupyter.widget-view+json": {
       "model_id": "3ff215a43acc465697a5cf1db536b0af",
       "version_major": 2,
       "version_minor": 0
      },
      "text/plain": [
       "Epoch 3/50 [Validasi]:   0%|          | 0/87 [00:00<?, ?it/s]"
      ]
     },
     "metadata": {},
     "output_type": "display_data"
    },
    {
     "name": "stdout",
     "output_type": "stream",
     "text": [
      "Epoch 3/50 - Train Loss: 0.0946, Train Acc: 0.9660 - Val Loss: 0.0839, Val Acc: 0.9688\n",
      "Validation metric (max) improved (0.966618 --> 0.968795). Menyimpan model ke /kaggle/working/best_vit_malaria_model.pth ...\n"
     ]
    },
    {
     "data": {
      "application/vnd.jupyter.widget-view+json": {
       "model_id": "54fbbc29e458463290dcec55bb2b42b3",
       "version_major": 2,
       "version_minor": 0
      },
      "text/plain": [
       "Epoch 4/50 [Training]:   0%|          | 0/689 [00:00<?, ?it/s]"
      ]
     },
     "metadata": {},
     "output_type": "display_data"
    },
    {
     "data": {
      "application/vnd.jupyter.widget-view+json": {
       "model_id": "17c2d239d0a348fe97eb8c45e9d2da40",
       "version_major": 2,
       "version_minor": 0
      },
      "text/plain": [
       "Epoch 4/50 [Validasi]:   0%|          | 0/87 [00:00<?, ?it/s]"
      ]
     },
     "metadata": {},
     "output_type": "display_data"
    },
    {
     "name": "stdout",
     "output_type": "stream",
     "text": [
      "Epoch 4/50 - Train Loss: 0.0896, Train Acc: 0.9691 - Val Loss: 0.0781, Val Acc: 0.9717\n",
      "Validation metric (max) improved (0.968795 --> 0.971698). Menyimpan model ke /kaggle/working/best_vit_malaria_model.pth ...\n"
     ]
    },
    {
     "data": {
      "application/vnd.jupyter.widget-view+json": {
       "model_id": "9ac391c409034fb085d5be7fdc930e9d",
       "version_major": 2,
       "version_minor": 0
      },
      "text/plain": [
       "Epoch 5/50 [Training]:   0%|          | 0/689 [00:00<?, ?it/s]"
      ]
     },
     "metadata": {},
     "output_type": "display_data"
    },
    {
     "data": {
      "application/vnd.jupyter.widget-view+json": {
       "model_id": "0a07adb93fdb472b8ede530dd797541b",
       "version_major": 2,
       "version_minor": 0
      },
      "text/plain": [
       "Epoch 5/50 [Validasi]:   0%|          | 0/87 [00:00<?, ?it/s]"
      ]
     },
     "metadata": {},
     "output_type": "display_data"
    },
    {
     "name": "stdout",
     "output_type": "stream",
     "text": [
      "Epoch 5/50 - Train Loss: 0.0851, Train Acc: 0.9697 - Val Loss: 0.0825, Val Acc: 0.9699\n",
      "EarlyStopping counter: 1 dari 5\n"
     ]
    },
    {
     "data": {
      "application/vnd.jupyter.widget-view+json": {
       "model_id": "8c08e97e9ec147869be48ff518e2c810",
       "version_major": 2,
       "version_minor": 0
      },
      "text/plain": [
       "Epoch 6/50 [Training]:   0%|          | 0/689 [00:00<?, ?it/s]"
      ]
     },
     "metadata": {},
     "output_type": "display_data"
    },
    {
     "data": {
      "application/vnd.jupyter.widget-view+json": {
       "model_id": "19483b210c104e999191c1c14287fb39",
       "version_major": 2,
       "version_minor": 0
      },
      "text/plain": [
       "Epoch 6/50 [Validasi]:   0%|          | 0/87 [00:00<?, ?it/s]"
      ]
     },
     "metadata": {},
     "output_type": "display_data"
    },
    {
     "name": "stdout",
     "output_type": "stream",
     "text": [
      "Epoch 6/50 - Train Loss: 0.0816, Train Acc: 0.9705 - Val Loss: 0.0779, Val Acc: 0.9731\n",
      "Validation metric (max) improved (0.971698 --> 0.973149). Menyimpan model ke /kaggle/working/best_vit_malaria_model.pth ...\n"
     ]
    },
    {
     "data": {
      "application/vnd.jupyter.widget-view+json": {
       "model_id": "dd4bdd4f70ac4508bd9ba677d3e88f7b",
       "version_major": 2,
       "version_minor": 0
      },
      "text/plain": [
       "Epoch 7/50 [Training]:   0%|          | 0/689 [00:00<?, ?it/s]"
      ]
     },
     "metadata": {},
     "output_type": "display_data"
    },
    {
     "data": {
      "application/vnd.jupyter.widget-view+json": {
       "model_id": "d3af2f6e84c743e89adc2d1e48817c69",
       "version_major": 2,
       "version_minor": 0
      },
      "text/plain": [
       "Epoch 7/50 [Validasi]:   0%|          | 0/87 [00:00<?, ?it/s]"
      ]
     },
     "metadata": {},
     "output_type": "display_data"
    },
    {
     "name": "stdout",
     "output_type": "stream",
     "text": [
      "Epoch 7/50 - Train Loss: 0.0803, Train Acc: 0.9717 - Val Loss: 0.0804, Val Acc: 0.9702\n",
      "EarlyStopping counter: 1 dari 5\n"
     ]
    },
    {
     "data": {
      "application/vnd.jupyter.widget-view+json": {
       "model_id": "0c3cdeb06ebb472cb3fdd8ac5c1624f8",
       "version_major": 2,
       "version_minor": 0
      },
      "text/plain": [
       "Epoch 8/50 [Training]:   0%|          | 0/689 [00:00<?, ?it/s]"
      ]
     },
     "metadata": {},
     "output_type": "display_data"
    },
    {
     "data": {
      "application/vnd.jupyter.widget-view+json": {
       "model_id": "a4205dc4c650484fa6d618ae1f0bb9c6",
       "version_major": 2,
       "version_minor": 0
      },
      "text/plain": [
       "Epoch 8/50 [Validasi]:   0%|          | 0/87 [00:00<?, ?it/s]"
      ]
     },
     "metadata": {},
     "output_type": "display_data"
    },
    {
     "name": "stdout",
     "output_type": "stream",
     "text": [
      "Epoch 8/50 - Train Loss: 0.0765, Train Acc: 0.9736 - Val Loss: 0.0835, Val Acc: 0.9710\n",
      "EarlyStopping counter: 2 dari 5\n"
     ]
    },
    {
     "data": {
      "application/vnd.jupyter.widget-view+json": {
       "model_id": "13373ea5c9234abb87b344f1abf2cd67",
       "version_major": 2,
       "version_minor": 0
      },
      "text/plain": [
       "Epoch 9/50 [Training]:   0%|          | 0/689 [00:00<?, ?it/s]"
      ]
     },
     "metadata": {},
     "output_type": "display_data"
    },
    {
     "data": {
      "application/vnd.jupyter.widget-view+json": {
       "model_id": "08a9f74e9c174dd5bc890e7bed421b02",
       "version_major": 2,
       "version_minor": 0
      },
      "text/plain": [
       "Epoch 9/50 [Validasi]:   0%|          | 0/87 [00:00<?, ?it/s]"
      ]
     },
     "metadata": {},
     "output_type": "display_data"
    },
    {
     "name": "stdout",
     "output_type": "stream",
     "text": [
      "Epoch 9/50 - Train Loss: 0.0775, Train Acc: 0.9712 - Val Loss: 0.0784, Val Acc: 0.9717\n",
      "EarlyStopping counter: 3 dari 5\n"
     ]
    },
    {
     "data": {
      "application/vnd.jupyter.widget-view+json": {
       "model_id": "f8ad1134796243de92d7081fc1c9d5b1",
       "version_major": 2,
       "version_minor": 0
      },
      "text/plain": [
       "Epoch 10/50 [Training]:   0%|          | 0/689 [00:00<?, ?it/s]"
      ]
     },
     "metadata": {},
     "output_type": "display_data"
    },
    {
     "data": {
      "application/vnd.jupyter.widget-view+json": {
       "model_id": "780d3238660f457d9ee0897284786510",
       "version_major": 2,
       "version_minor": 0
      },
      "text/plain": [
       "Epoch 10/50 [Validasi]:   0%|          | 0/87 [00:00<?, ?it/s]"
      ]
     },
     "metadata": {},
     "output_type": "display_data"
    },
    {
     "name": "stdout",
     "output_type": "stream",
     "text": [
      "Epoch 10/50 - Train Loss: 0.0783, Train Acc: 0.9719 - Val Loss: 0.0859, Val Acc: 0.9717\n",
      "EarlyStopping counter: 4 dari 5\n"
     ]
    },
    {
     "data": {
      "application/vnd.jupyter.widget-view+json": {
       "model_id": "5d5fbfc2063f44129f36c4c4b120b4f9",
       "version_major": 2,
       "version_minor": 0
      },
      "text/plain": [
       "Epoch 11/50 [Training]:   0%|          | 0/689 [00:00<?, ?it/s]"
      ]
     },
     "metadata": {},
     "output_type": "display_data"
    },
    {
     "data": {
      "application/vnd.jupyter.widget-view+json": {
       "model_id": "b00a3423b19747d088875f5551df0e8a",
       "version_major": 2,
       "version_minor": 0
      },
      "text/plain": [
       "Epoch 11/50 [Validasi]:   0%|          | 0/87 [00:00<?, ?it/s]"
      ]
     },
     "metadata": {},
     "output_type": "display_data"
    },
    {
     "name": "stdout",
     "output_type": "stream",
     "text": [
      "Epoch 11/50 - Train Loss: 0.0698, Train Acc: 0.9744 - Val Loss: 0.0850, Val Acc: 0.9717\n",
      "EarlyStopping counter: 5 dari 5\n",
      "Early stopping dipicu.\n",
      "Training Selesai.\n"
     ]
    }
   ],
   "source": [
    "optimizer = optim.AdamW(model.parameters(), lr=LEARNING_RATE, weight_decay=0.01)\n",
    "criterion = nn.CrossEntropyLoss()\n",
    "\n",
    "train_losses, val_losses = [], []\n",
    "train_accuracies, val_accuracies = [], []\n",
    "\n",
    "early_stopper = EarlyStopping(\n",
    "    patience=PATIENCE_EARLY_STOPPING,\n",
    "    verbose=True,\n",
    "    delta=DELTA_EARLY_STOPPING,\n",
    "    path=MODEL_SAVE_PATH,\n",
    "    mode='max'\n",
    ")\n",
    "\n",
    "print(\"\\nMemulai Training...\")\n",
    "for epoch in range(NUM_EPOCHS):\n",
    "    model.train()\n",
    "    running_train_loss = 0.0\n",
    "    train_preds_all, train_labels_all = [], []\n",
    "    train_pbar = tqdm(train_loader, desc=f\"Epoch {epoch+1}/{NUM_EPOCHS} [Training]\")\n",
    "\n",
    "    for inputs, labels in train_pbar:\n",
    "        inputs, labels = inputs.to(DEVICE), labels.to(DEVICE)\n",
    "        optimizer.zero_grad()\n",
    "        outputs = model(pixel_values=inputs)\n",
    "        logits = outputs.logits\n",
    "        loss = criterion(logits, labels)\n",
    "        loss.backward()\n",
    "        optimizer.step()\n",
    "\n",
    "        running_train_loss += loss.item() * inputs.size(0)\n",
    "        _, preds = torch.max(logits, 1)\n",
    "        train_preds_all.extend(preds.cpu().numpy())\n",
    "        train_labels_all.extend(labels.cpu().numpy())\n",
    "        train_pbar.set_postfix({'loss': loss.item()})\n",
    "\n",
    "    epoch_train_loss = running_train_loss / len(train_dataset)\n",
    "    epoch_train_accuracy = accuracy_score(train_labels_all, train_preds_all)\n",
    "    train_losses.append(epoch_train_loss)\n",
    "    train_accuracies.append(epoch_train_accuracy)\n",
    "\n",
    "    model.eval()\n",
    "    running_val_loss = 0.0\n",
    "    val_preds_all, val_labels_all = [], []\n",
    "    val_pbar = tqdm(val_loader, desc=f\"Epoch {epoch+1}/{NUM_EPOCHS} [Validasi]\")\n",
    "    with torch.no_grad():\n",
    "        for inputs, labels in val_pbar:\n",
    "            inputs, labels = inputs.to(DEVICE), labels.to(DEVICE)\n",
    "            outputs = model(pixel_values=inputs)\n",
    "            logits = outputs.logits\n",
    "            loss = criterion(logits, labels)\n",
    "            running_val_loss += loss.item() * inputs.size(0)\n",
    "            _, preds = torch.max(logits, 1)\n",
    "            val_preds_all.extend(preds.cpu().numpy())\n",
    "            val_labels_all.extend(labels.cpu().numpy())\n",
    "            val_pbar.set_postfix({'loss': loss.item()})\n",
    "\n",
    "    epoch_val_loss = running_val_loss / len(val_dataset)\n",
    "    epoch_val_accuracy = accuracy_score(val_labels_all, val_preds_all)\n",
    "    val_losses.append(epoch_val_loss)\n",
    "    val_accuracies.append(epoch_val_accuracy)\n",
    "\n",
    "    print(f\"Epoch {epoch+1}/{NUM_EPOCHS} - \"\n",
    "          f\"Train Loss: {epoch_train_loss:.4f}, Train Acc: {epoch_train_accuracy:.4f} - \"\n",
    "          f\"Val Loss: {epoch_val_loss:.4f}, Val Acc: {epoch_val_accuracy:.4f}\")\n",
    "\n",
    "    early_stopper(epoch_val_accuracy, model)\n",
    "    if early_stopper.early_stop:\n",
    "        print(\"Early stopping dipicu.\")\n",
    "        break\n",
    "\n",
    "print(\"Training Selesai.\")"
   ]
  },
  {
   "cell_type": "markdown",
   "metadata": {},
   "source": [
    "## 5. VISUALISASI HASIL TRAINING"
   ]
  },
  {
   "cell_type": "code",
   "execution_count": 6,
   "metadata": {
    "execution": {
     "iopub.execute_input": "2025-05-31T16:57:45.110467Z",
     "iopub.status.busy": "2025-05-31T16:57:45.110239Z",
     "iopub.status.idle": "2025-05-31T16:57:45.525519Z",
     "shell.execute_reply": "2025-05-31T16:57:45.524777Z",
     "shell.execute_reply.started": "2025-05-31T16:57:45.110440Z"
    },
    "trusted": true
   },
   "outputs": [
    {
     "data": {
      "image/png": "[encoded data removed]",
      "text/plain": [
       "<Figure size 1200x500 with 2 Axes>"
      ]
     },
     "metadata": {},
     "output_type": "display_data"
    }
   ],
   "source": [
    "actual_epochs = len(train_losses)\n",
    "plt.figure(figsize=(12, 5))\n",
    "plt.subplot(1, 2, 1)\n",
    "plt.plot(range(1, actual_epochs + 1), train_losses, label='Train Loss')\n",
    "plt.plot(range(1, actual_epochs + 1), val_losses, label='Validation Loss')\n",
    "plt.xlabel('Epoch')\n",
    "plt.ylabel('Loss')\n",
    "plt.title('Training & Validation Loss')\n",
    "plt.legend(); plt.grid(True)\n",
    "\n",
    "plt.subplot(1, 2, 2)\n",
    "plt.plot(range(1, actual_epochs + 1), train_accuracies, label='Train Accuracy')\n",
    "plt.plot(range(1, actual_epochs + 1), val_accuracies, label='Validation Accuracy')\n",
    "plt.xlabel('Epoch'); plt.ylabel('Accuracy'); plt.title('Training & Validation Accuracy')\n",
    "plt.legend(); plt.grid(True)\n",
    "plt.tight_layout(); plt.show()"
   ]
  },
  {
   "cell_type": "markdown",
   "metadata": {},
   "source": [
    "## 6. EVALUASI PADA TEST SET"
   ]
  },
  {
   "cell_type": "code",
   "execution_count": 7,
   "metadata": {
    "execution": {
     "iopub.execute_input": "2025-05-31T16:57:45.526629Z",
     "iopub.status.busy": "2025-05-31T16:57:45.526357Z",
     "iopub.status.idle": "2025-05-31T16:58:30.742784Z",
     "shell.execute_reply": "2025-05-31T16:58:30.742098Z",
     "shell.execute_reply.started": "2025-05-31T16:57:45.526601Z"
    },
    "trusted": true
   },
   "outputs": [
    {
     "name": "stdout",
     "output_type": "stream",
     "text": [
      "\n",
      "Memulai Evaluasi pada Test Set...\n",
      "Model terbaik dimuat dari /kaggle/working/best_vit_malaria_model.pth untuk evaluasi.\n"
     ]
    },
    {
     "data": {
      "application/vnd.jupyter.widget-view+json": {
       "model_id": "c9733d4730e14ad9b348b74a5d9b0aa5",
       "version_major": 2,
       "version_minor": 0
      },
      "text/plain": [
       "Evaluasi Test Set:   0%|          | 0/87 [00:00<?, ?it/s]"
      ]
     },
     "metadata": {},
     "output_type": "display_data"
    },
    {
     "name": "stdout",
     "output_type": "stream",
     "text": [
      "\n",
      "Test Accuracy: 0.9746\n"
     ]
    }
   ],
   "source": [
    "print(\"\\nMemulai Evaluasi pada Test Set...\")\n",
    "if os.path.exists(MODEL_SAVE_PATH):\n",
    "    print(f\"Model terbaik dimuat dari {MODEL_SAVE_PATH} untuk evaluasi.\")\n",
    "    model.load_state_dict(torch.load(MODEL_SAVE_PATH, map_location=DEVICE))\n",
    "else:\n",
    "    print(f\"Tidak ada model yang disimpan di {MODEL_SAVE_PATH}. Menggunakan model dari state terakhir.\")\n",
    "\n",
    "model.eval()\n",
    "test_preds_all, test_labels_all = [], []\n",
    "test_pbar = tqdm(test_loader, desc=\"Evaluasi Test Set\")\n",
    "with torch.no_grad():\n",
    "    for inputs, labels in test_pbar:\n",
    "        inputs, labels = inputs.to(DEVICE), labels.to(DEVICE)\n",
    "        outputs = model(pixel_values=inputs)\n",
    "        logits = outputs.logits\n",
    "        _, preds = torch.max(logits, 1)\n",
    "        test_preds_all.extend(preds.cpu().numpy())\n",
    "        test_labels_all.extend(labels.cpu().numpy())\n",
    "\n",
    "test_accuracy = accuracy_score(test_labels_all, test_preds_all)\n",
    "print(f\"\\nTest Accuracy: {test_accuracy:.4f}\")"
   ]
  },
  {
   "cell_type": "code",
   "execution_count": 8,
   "metadata": {
    "execution": {
     "iopub.execute_input": "2025-05-31T16:58:30.743921Z",
     "iopub.status.busy": "2025-05-31T16:58:30.743652Z",
     "iopub.status.idle": "2025-05-31T16:58:30.918896Z",
     "shell.execute_reply": "2025-05-31T16:58:30.918062Z",
     "shell.execute_reply.started": "2025-05-31T16:58:30.743885Z"
    },
    "trusted": true
   },
   "outputs": [
    {
     "name": "stdout",
     "output_type": "stream",
     "text": [
      "\n",
      "Classification Report:\n",
      "              precision    recall  f1-score   support\n",
      "\n",
      " Parasitized       0.98      0.97      0.97      1378\n",
      "  Uninfected       0.97      0.98      0.97      1378\n",
      "\n",
      "    accuracy                           0.97      2756\n",
      "   macro avg       0.97      0.97      0.97      2756\n",
      "weighted avg       0.97      0.97      0.97      2756\n",
      "\n",
      "\n",
      "Confusion Matrix:\n"
     ]
    },
    {
     "data": {
      "image/png": "[encoded data removed]",
      "text/plain": [
       "<Figure size 700x500 with 2 Axes>"
      ]
     },
     "metadata": {},
     "output_type": "display_data"
    },
    {
     "name": "stdout",
     "output_type": "stream",
     "text": [
      "\n",
      "Selesai.\n"
     ]
    }
   ],
   "source": [
    "# Nama kelas dari dataset kustom kita\n",
    "class_names = test_dataset.classes # ['Parasitized', 'Uninfected']\n",
    "print(\"\\nClassification Report:\")\n",
    "try:\n",
    "    report = classification_report(test_labels_all, test_preds_all, target_names=class_names, zero_division=0)\n",
    "    print(report)\n",
    "except Exception as e:\n",
    "    print(f\"Error membuat classification report: {e}\")\n",
    "    report = classification_report(test_labels_all, test_preds_all, zero_division=0) # Coba tanpa target_names\n",
    "    print(report)\n",
    "\n",
    "\n",
    "print(\"\\nConfusion Matrix:\")\n",
    "cm = confusion_matrix(test_labels_all, test_preds_all)\n",
    "plt.figure(figsize=(7, 5))\n",
    "sns.heatmap(cm, annot=True, fmt='d', cmap='Blues', xticklabels=class_names, yticklabels=class_names)\n",
    "plt.xlabel('Predicted Label'); plt.ylabel('True Label'); plt.title('Confusion Matrix - Test Set')\n",
    "plt.show()\n",
    "\n",
    "print(\"\\nSelesai.\")"
   ]
  }
 ],
 "metadata": {
  "kaggle": {
   "accelerator": "nvidiaTeslaT4",
   "dataSources": [
    {
     "datasetId": 87153,
     "sourceId": 200743,
     "sourceType": "datasetVersion"
    }
   ],
   "dockerImageVersionId": 31041,
   "isGpuEnabled": true,
   "isInternetEnabled": true,
   "language": "python",
   "sourceType": "notebook"
  },
  "kernelspec": {
   "display_name": "Python 3",
   "language": "python",
   "name": "python3"
  },
  "language_info": {
   "codemirror_mode": {
    "name": "ipython",
    "version": 3
   },
   "file_extension": ".py",
   "mimetype": "text/x-python",
   "name": "python",
   "nbconvert_exporter": "python",
   "pygments_lexer": "ipython3",
   "version": "3.11.11"
  }
 },
 "nbformat": 4,
 "nbformat_minor": 4
}
