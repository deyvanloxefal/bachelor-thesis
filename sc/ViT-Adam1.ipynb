{
 "cells": [
  {
   "cell_type": "code",
   "execution_count": 1,
   "metadata": {
    "_cell_guid": "b1076dfc-b9ad-4769-8c92-a6c4dae69d19",
    "_uuid": "8f2839f25d086af736a60e9eeb907d3b93b6e0e5",
    "execution": {
     "iopub.execute_input": "2025-06-09T07:00:32.424291Z",
     "iopub.status.busy": "2025-06-09T07:00:32.423571Z",
     "iopub.status.idle": "2025-06-09T07:00:57.681192Z",
     "shell.execute_reply": "2025-06-09T07:00:57.680558Z",
     "shell.execute_reply.started": "2025-06-09T07:00:32.424265Z"
    },
    "trusted": true
   },
   "outputs": [
    {
     "name": "stderr",
     "output_type": "stream",
     "text": [
      "2025-06-09 07:00:43.328465: E external/local_xla/xla/stream_executor/cuda/cuda_fft.cc:477] Unable to register cuFFT factory: Attempting to register factory for plugin cuFFT when one has already been registered\n",
      "WARNING: All log messages before absl::InitializeLog() is called are written to STDERR\n",
      "E0000 00:00:1749452443.511750      35 cuda_dnn.cc:8310] Unable to register cuDNN factory: Attempting to register factory for plugin cuDNN when one has already been registered\n",
      "E0000 00:00:1749452443.568100      35 cuda_blas.cc:1418] Unable to register cuBLAS factory: Attempting to register factory for plugin cuBLAS when one has already been registered\n"
     ]
    }
   ],
   "source": [
    "import os\n",
    "import shutil # Untuk menyalin file nanti (opsional, jika ingin membuat struktur folder train/val/test)\n",
    "import random # Untuk pembagian data\n",
    "import numpy as np\n",
    "import pandas as pd # Berguna untuk manajemen daftar file\n",
    "from PIL import Image # Untuk memuat gambar\n",
    "import copy\n",
    "\n",
    "import torch\n",
    "import torch.nn as nn\n",
    "import torch.optim as optim\n",
    "from torch.utils.data import Dataset, DataLoader\n",
    "from torchvision import transforms as T\n",
    "from transformers import ViTImageProcessor, ViTForImageClassification\n",
    "\n",
    "from sklearn.model_selection import train_test_split\n",
    "from sklearn.metrics import accuracy_score, classification_report, confusion_matrix\n",
    "import matplotlib.pyplot as plt\n",
    "import seaborn as sns\n",
    "from tqdm.auto import tqdm"
   ]
  },
  {
   "cell_type": "markdown",
   "metadata": {},
   "source": [
    "# 1. KONFIGURASI"
   ]
  },
  {
   "cell_type": "code",
   "execution_count": 2,
   "metadata": {
    "execution": {
     "iopub.execute_input": "2025-06-09T07:00:57.682659Z",
     "iopub.status.busy": "2025-06-09T07:00:57.682158Z",
     "iopub.status.idle": "2025-06-09T07:00:57.692997Z",
     "shell.execute_reply": "2025-06-09T07:00:57.692113Z",
     "shell.execute_reply.started": "2025-06-09T07:00:57.682611Z"
    },
    "trusted": true
   },
   "outputs": [
    {
     "name": "stdout",
     "output_type": "stream",
     "text": [
      "Menggunakan device: cuda\n",
      "Model: google/vit-base-patch16-224\n",
      "Jumlah kelas: 2\n",
      "Path model akan disimpan di: /kaggle/working/best_vit_malaria_model.pth\n",
      "Early Stopping Patience: 5, Min Delta: 0.0001\n"
     ]
    }
   ],
   "source": [
    "MODEL_NAME = \"google/vit-base-patch16-224\"\n",
    "NUM_CLASSES = 2  # Parasitized dan Uninfected\n",
    "BATCH_SIZE = 32 # Sesuaikan dengan VRAM Kaggle (P100/T4 biasanya bisa batch 32-64)\n",
    "LEARNING_RATE = 1e-4\n",
    "NUM_EPOCHS = 50 # Jumlah epoch bisa ditambah karena ada early stopping\n",
    "DEVICE = torch.device(\"cuda\" if torch.cuda.is_available() else \"cpu\")\n",
    "\n",
    "# Path dataset di Kaggle\n",
    "BASE_DATA_DIR = \"/kaggle/input/cell-images-for-detecting-malaria/cell_images/cell_images/\"\n",
    "PARASITIZED_DIR = os.path.join(BASE_DATA_DIR, \"Parasitized\")\n",
    "UNINFECTED_DIR = os.path.join(BASE_DATA_DIR, \"Uninfected\")\n",
    "\n",
    "MODEL_SAVE_PATH = \"/kaggle/working/best_vit_malaria_model.pth\"\n",
    "\n",
    "# Konfigurasi Early Stopping\n",
    "PATIENCE_EARLY_STOPPING = 5\n",
    "DELTA_EARLY_STOPPING = 0.0001 # Akurasi harus meningkat minimal 0.1%\n",
    "\n",
    "print(f\"Menggunakan device: {DEVICE}\")\n",
    "print(f\"Model: {MODEL_NAME}\")\n",
    "print(f\"Jumlah kelas: {NUM_CLASSES}\")\n",
    "print(f\"Path model akan disimpan di: {MODEL_SAVE_PATH}\")\n",
    "print(f\"Early Stopping Patience: {PATIENCE_EARLY_STOPPING}, Min Delta: {DELTA_EARLY_STOPPING}\")\n",
    "\n",
    "# --- Kelas EarlyStopping (sama seperti sebelumnya) ---\n",
    "class EarlyStopping:\n",
    "    def __init__(self, patience=7, verbose=True, delta=0, path='checkpoint.pt', trace_func=print, mode='max'):\n",
    "        self.patience = patience\n",
    "        self.verbose = verbose\n",
    "        self.counter = 0\n",
    "        self.best_score = None\n",
    "        self.early_stop = False\n",
    "        self.val_metric_at_best_score = -np.Inf if mode == 'max' else np.Inf\n",
    "        self.delta = delta\n",
    "        self.path = path\n",
    "        self.trace_func = trace_func\n",
    "        self.mode = mode\n",
    "        self.best_model_wts = None\n",
    "\n",
    "    def __call__(self, val_metric, model):\n",
    "        score = val_metric\n",
    "        is_improvement = False\n",
    "        if self.mode == 'max':\n",
    "            if score > self.val_metric_at_best_score + self.delta:\n",
    "                is_improvement = True\n",
    "        else:\n",
    "            if score < self.val_metric_at_best_score - self.delta:\n",
    "                is_improvement = True\n",
    "\n",
    "        if self.best_score is None:\n",
    "            self.best_score = score\n",
    "            if is_improvement or self.val_metric_at_best_score == (-np.Inf if self.mode == 'max' else np.Inf):\n",
    "                 self.val_metric_at_best_score = score\n",
    "                 self.save_checkpoint(val_metric, model)\n",
    "        elif is_improvement:\n",
    "            if self.verbose:\n",
    "                self.trace_func(f'Validation metric ({self.mode}) improved ({self.val_metric_at_best_score:.6f} --> {score:.6f}). Menyimpan model ke {self.path} ...')\n",
    "            self.best_score = score\n",
    "            self.val_metric_at_best_score = score\n",
    "            self.save_checkpoint(val_metric, model)\n",
    "            self.counter = 0\n",
    "        else:\n",
    "            self.counter += 1\n",
    "            if self.verbose:\n",
    "                self.trace_func(f'EarlyStopping counter: {self.counter} dari {self.patience}')\n",
    "            if self.counter >= self.patience:\n",
    "                self.early_stop = True\n",
    "\n",
    "    def save_checkpoint(self, val_metric, model):\n",
    "        self.best_model_wts = copy.deepcopy(model.state_dict())\n",
    "        torch.save(self.best_model_wts, self.path)"
   ]
  },
  {
   "cell_type": "markdown",
   "metadata": {},
   "source": [
    "# 2. MEMUAT IMAGE PROCESSOR DAN MODEL"
   ]
  },
  {
   "cell_type": "code",
   "execution_count": 3,
   "metadata": {
    "execution": {
     "iopub.execute_input": "2025-06-09T07:00:57.694238Z",
     "iopub.status.busy": "2025-06-09T07:00:57.693938Z",
     "iopub.status.idle": "2025-06-09T07:01:01.332961Z",
     "shell.execute_reply": "2025-06-09T07:01:01.332323Z",
     "shell.execute_reply.started": "2025-06-09T07:00:57.694211Z"
    },
    "trusted": true
   },
   "outputs": [
    {
     "data": {
      "application/vnd.jupyter.widget-view+json": {
       "model_id": "938523ab3fcd4047a4ed22dd47652a67",
       "version_major": 2,
       "version_minor": 0
      },
      "text/plain": [
       "preprocessor_config.json:   0%|          | 0.00/160 [00:00<?, ?B/s]"
      ]
     },
     "metadata": {},
     "output_type": "display_data"
    },
    {
     "data": {
      "application/vnd.jupyter.widget-view+json": {
       "model_id": "9b3b117047b542368b90f4dbfdca72e2",
       "version_major": 2,
       "version_minor": 0
      },
      "text/plain": [
       "config.json:   0%|          | 0.00/69.7k [00:00<?, ?B/s]"
      ]
     },
     "metadata": {},
     "output_type": "display_data"
    },
    {
     "data": {
      "application/vnd.jupyter.widget-view+json": {
       "model_id": "0dad5c0f889844439b9dfeff0236b7b5",
       "version_major": 2,
       "version_minor": 0
      },
      "text/plain": [
       "model.safetensors:   0%|          | 0.00/346M [00:00<?, ?B/s]"
      ]
     },
     "metadata": {},
     "output_type": "display_data"
    },
    {
     "name": "stderr",
     "output_type": "stream",
     "text": [
      "Some weights of ViTForImageClassification were not initialized from the model checkpoint at google/vit-base-patch16-224 and are newly initialized because the shapes did not match:\n",
      "- classifier.bias: found shape torch.Size([1000]) in the checkpoint and torch.Size([2]) in the model instantiated\n",
      "- classifier.weight: found shape torch.Size([1000, 768]) in the checkpoint and torch.Size([2, 768]) in the model instantiated\n",
      "You should probably TRAIN this model on a down-stream task to be able to use it for predictions and inference.\n"
     ]
    }
   ],
   "source": [
    "try:\n",
    "    image_processor = ViTImageProcessor.from_pretrained(MODEL_NAME)\n",
    "    model = ViTForImageClassification.from_pretrained(\n",
    "        MODEL_NAME,\n",
    "        num_labels=NUM_CLASSES,\n",
    "        ignore_mismatched_sizes=True # Penting jika mengganti head klasifikasi\n",
    "    )\n",
    "    model.to(DEVICE)\n",
    "except Exception as e:\n",
    "    print(f\"Error saat memuat model atau processor: {e}\")\n",
    "    print(\"Pastikan Anda memiliki koneksi internet (di Kaggle, aktifkan di Settings).\")\n",
    "    # exit() # Sebaiknya jangan exit di notebook, biarkan error muncul"
   ]
  },
  {
   "cell_type": "markdown",
   "metadata": {},
   "source": [
    "# 3. PERSIAPAN DATA"
   ]
  },
  {
   "cell_type": "code",
   "execution_count": 4,
   "metadata": {
    "execution": {
     "iopub.execute_input": "2025-06-09T07:01:01.334666Z",
     "iopub.status.busy": "2025-06-09T07:01:01.334416Z",
     "iopub.status.idle": "2025-06-09T07:01:02.743319Z",
     "shell.execute_reply": "2025-06-09T07:01:02.742669Z",
     "shell.execute_reply.started": "2025-06-09T07:01:01.334623Z"
    },
    "trusted": true
   },
   "outputs": [
    {
     "name": "stdout",
     "output_type": "stream",
     "text": [
      "Jumlah data train: 22046\n",
      "Jumlah data validation: 2756\n",
      "Jumlah data test: 2756\n",
      "Contoh file train: /kaggle/input/cell-images-for-detecting-malaria/cell_images/cell_images/Parasitized/C172P133ThinF_IMG_20151119_155343_cell_287.png, Label: 0\n",
      "Target size untuk augmentasi (RandomResizedCrop): (224, 224)\n",
      "Jumlah batch di train_loader: 689\n",
      "Contoh data dari train_loader (1 batch):\n",
      "Bentuk tensor gambar: torch.Size([32, 3, 224, 224]), Bentuk tensor label: torch.Size([32])\n"
     ]
    }
   ],
   "source": [
    "# Mendapatkan daftar semua file gambar dan labelnya\n",
    "parasitized_files = [os.path.join(PARASITIZED_DIR, f) for f in os.listdir(PARASITIZED_DIR) if f.endswith('.png')]\n",
    "uninfected_files = [os.path.join(UNINFECTED_DIR, f) for f in os.listdir(UNINFECTED_DIR) if f.endswith('.png')]\n",
    "\n",
    "# Label: 0 untuk Parasitized, 1 untuk Uninfected (atau sebaliknya, pastikan konsisten)\n",
    "# Mari kita gunakan: Parasitized = 0, Uninfected = 1\n",
    "# Jika menggunakan ImageFolder, urutan kelas biasanya alfabetis.\n",
    "# Di sini kita kontrol manual, jadi lebih fleksibel.\n",
    "# Kelas yang diharapkan oleh model (jika ImageFolder): {'Parasitized': 0, 'Uninfected': 1}\n",
    "# Kita akan buat label: Parasitized = 0, Uninfected = 1\n",
    "labels_parasitized = [0] * len(parasitized_files)\n",
    "labels_uninfected = [1] * len(uninfected_files)\n",
    "\n",
    "all_files = parasitized_files + uninfected_files\n",
    "all_labels = labels_parasitized + labels_uninfected\n",
    "\n",
    "# Pembagian data: 80% train, 10% validation, 10% test\n",
    "# Pertama, bagi menjadi train dan temp (val+test)\n",
    "train_files, temp_files, train_labels, temp_labels = train_test_split(\n",
    "    all_files, all_labels, test_size=0.2, stratify=all_labels, random_state=42\n",
    ")\n",
    "# Kemudian, bagi temp menjadi validation dan test\n",
    "val_files, test_files, val_labels, test_labels = train_test_split(\n",
    "    temp_files, temp_labels, test_size=0.5, stratify=temp_labels, random_state=42 # 0.5 dari 0.2 = 0.1\n",
    ")\n",
    "\n",
    "print(f\"Jumlah data train: {len(train_files)}\")\n",
    "print(f\"Jumlah data validation: {len(val_files)}\")\n",
    "print(f\"Jumlah data test: {len(test_files)}\")\n",
    "print(f\"Contoh file train: {train_files[0]}, Label: {train_labels[0]}\")\n",
    "\n",
    "# --- Dataset Kustom PyTorch ---\n",
    "class MalariaDataset(Dataset):\n",
    "    def __init__(self, file_paths, labels, transform=None):\n",
    "        self.file_paths = file_paths\n",
    "        self.labels = labels\n",
    "        self.transform = transform\n",
    "        # Tentukan class_to_idx agar konsisten dengan apa yang mungkin dihasilkan ImageFolder\n",
    "        self.class_to_idx = {'Parasitized': 0, 'Uninfected': 1}\n",
    "        self.classes = ['Parasitized', 'Uninfected']\n",
    "\n",
    "\n",
    "    def __len__(self):\n",
    "        return len(self.file_paths)\n",
    "\n",
    "    def __getitem__(self, idx):\n",
    "        img_path = self.file_paths[idx]\n",
    "        try:\n",
    "            image = Image.open(img_path).convert(\"RGB\") # Pastikan RGB\n",
    "        except FileNotFoundError:\n",
    "            print(f\"Error: File tidak ditemukan di {img_path}\")\n",
    "            # Kembalikan dummy data atau raise error\n",
    "            # Untuk sekarang, kita raise error agar masalah diketahui\n",
    "            raise FileNotFoundError(f\"File tidak ditemukan {img_path}\")\n",
    "        except Exception as e:\n",
    "            print(f\"Error saat memuat gambar {img_path}: {e}\")\n",
    "            # Kembalikan dummy data atau raise error\n",
    "            raise e\n",
    "\n",
    "\n",
    "        label = self.labels[idx]\n",
    "        if self.transform:\n",
    "            image = self.transform(image)\n",
    "        return image, label\n",
    "\n",
    "# --- Transformasi Data (sama seperti sebelumnya) ---\n",
    "def vit_core_processor_transform(pil_image, processor):\n",
    "    # image_processor sudah menghandle konversi ke RGB jika inputnya PIL Image\n",
    "    # dan parameternya do_convert_rgb=True (default)\n",
    "    # return processor(images=pil_image, return_tensors='pt')['pixel_values'].squeeze(0) # squeeze(0) jika batch_size=1\n",
    "    # Jika dipanggil dari transform di Dataset, yang diproses satu gambar, maka squeeze(0) benar.\n",
    "    # Untuk ViTImageProcessor, dia bisa handle PIL image langsung.\n",
    "    processed_output = processor(images=pil_image, return_tensors='pt')\n",
    "    return processed_output['pixel_values'].squeeze(0)\n",
    "\n",
    "\n",
    "try:\n",
    "    if isinstance(image_processor.size, dict):\n",
    "        if 'height' in image_processor.size and 'width' in image_processor.size:\n",
    "            target_size = (image_processor.size['height'], image_processor.size['width'])\n",
    "        elif 'shortest_edge' in image_processor.size:\n",
    "            s_edge = image_processor.size['shortest_edge']\n",
    "            target_size = (s_edge, s_edge)\n",
    "        else: target_size = (224, 224) # Fallback\n",
    "    elif isinstance(image_processor.size, int): target_size = (image_processor.size, image_processor.size)\n",
    "    else: target_size = (224, 224) # Fallback\n",
    "except AttributeError: target_size = (224, 224) # Fallback\n",
    "except Exception: target_size = (224, 224) # Fallback\n",
    "\n",
    "print(f\"Target size untuk augmentasi (RandomResizedCrop): {target_size}\")\n",
    "\n",
    "train_transforms = T.Compose([\n",
    "    T.RandomResizedCrop(target_size, scale=(0.8, 1.0), ratio=(0.75, 1.33)),\n",
    "    T.RandomRotation(degrees=20), # Tingkatkan sedikit rotasi\n",
    "    T.ColorJitter(brightness=0.25, contrast=0.25, saturation=0.25, hue=0.12), # Tingkatkan sedikit jitter\n",
    "    T.RandomHorizontalFlip(),\n",
    "    T.RandomVerticalFlip(), # Tambahkan vertical flip, bisa relevan untuk sel\n",
    "    lambda img: vit_core_processor_transform(img, image_processor)\n",
    "])\n",
    "\n",
    "val_test_transforms = T.Compose([\n",
    "    # ViTImageProcessor akan menangani resize ke target_size yang sesuai konfigurasinya\n",
    "    lambda img: vit_core_processor_transform(img, image_processor)\n",
    "])\n",
    "\n",
    "# Membuat instance Dataset\n",
    "train_dataset = MalariaDataset(train_files, train_labels, transform=train_transforms)\n",
    "val_dataset = MalariaDataset(val_files, val_labels, transform=val_test_transforms)\n",
    "test_dataset = MalariaDataset(test_files, test_labels, transform=val_test_transforms)\n",
    "\n",
    "# Membuat DataLoader\n",
    "train_loader = DataLoader(train_dataset, batch_size=BATCH_SIZE, shuffle=True, num_workers=0) # num_workers=2 standar di Kaggle\n",
    "val_loader = DataLoader(val_dataset, batch_size=BATCH_SIZE, shuffle=False, num_workers=0)\n",
    "test_loader = DataLoader(test_dataset, batch_size=BATCH_SIZE, shuffle=False, num_workers=0)\n",
    "\n",
    "print(f\"Jumlah batch di train_loader: {len(train_loader)}\")\n",
    "print(f\"Contoh data dari train_loader (1 batch):\")\n",
    "try:\n",
    "    sample_images, sample_labels = next(iter(train_loader))\n",
    "    print(f\"Bentuk tensor gambar: {sample_images.shape}, Bentuk tensor label: {sample_labels.shape}\")\n",
    "except Exception as e:\n",
    "    print(f\"Error saat mengambil sampel dari train_loader: {e}\")"
   ]
  },
  {
   "cell_type": "markdown",
   "metadata": {},
   "source": [
    "# 4. TRAINING"
   ]
  },
  {
   "cell_type": "code",
   "execution_count": 5,
   "metadata": {
    "execution": {
     "iopub.execute_input": "2025-06-09T07:01:02.744436Z",
     "iopub.status.busy": "2025-06-09T07:01:02.744136Z",
     "iopub.status.idle": "2025-06-09T10:10:00.465326Z",
     "shell.execute_reply": "2025-06-09T10:10:00.464490Z",
     "shell.execute_reply.started": "2025-06-09T07:01:02.744418Z"
    },
    "trusted": true
   },
   "outputs": [
    {
     "name": "stdout",
     "output_type": "stream",
     "text": [
      "\n",
      "Memulai Training...\n"
     ]
    },
    {
     "data": {
      "application/vnd.jupyter.widget-view+json": {
       "model_id": "ed096127462d4befaedb0f0fd7b2b0bf",
       "version_major": 2,
       "version_minor": 0
      },
      "text/plain": [
       "Epoch 1/50 [Training]:   0%|          | 0/689 [00:00<?, ?it/s]"
      ]
     },
     "metadata": {},
     "output_type": "display_data"
    },
    {
     "data": {
      "application/vnd.jupyter.widget-view+json": {
       "model_id": "2cab5a0702d34c2cbc0e00e92fc3c47f",
       "version_major": 2,
       "version_minor": 0
      },
      "text/plain": [
       "Epoch 1/50 [Validasi]:   0%|          | 0/87 [00:00<?, ?it/s]"
      ]
     },
     "metadata": {},
     "output_type": "display_data"
    },
    {
     "name": "stdout",
     "output_type": "stream",
     "text": [
      "Epoch 1/50 - Train Loss: 0.1257, Train Acc: 0.9574 - Val Loss: 0.0968, Val Acc: 0.9713\n"
     ]
    },
    {
     "data": {
      "application/vnd.jupyter.widget-view+json": {
       "model_id": "26479a531f9445ae84711f38c2fd3166",
       "version_major": 2,
       "version_minor": 0
      },
      "text/plain": [
       "Epoch 2/50 [Training]:   0%|          | 0/689 [00:00<?, ?it/s]"
      ]
     },
     "metadata": {},
     "output_type": "display_data"
    },
    {
     "data": {
      "application/vnd.jupyter.widget-view+json": {
       "model_id": "b6a810fcf349430db96c9fbda12aa066",
       "version_major": 2,
       "version_minor": 0
      },
      "text/plain": [
       "Epoch 2/50 [Validasi]:   0%|          | 0/87 [00:00<?, ?it/s]"
      ]
     },
     "metadata": {},
     "output_type": "display_data"
    },
    {
     "name": "stdout",
     "output_type": "stream",
     "text": [
      "Epoch 2/50 - Train Loss: 0.1014, Train Acc: 0.9674 - Val Loss: 0.0882, Val Acc: 0.9713\n",
      "EarlyStopping counter: 1 dari 5\n"
     ]
    },
    {
     "data": {
      "application/vnd.jupyter.widget-view+json": {
       "model_id": "21bda86b37884fca80a63aa850007b2c",
       "version_major": 2,
       "version_minor": 0
      },
      "text/plain": [
       "Epoch 3/50 [Training]:   0%|          | 0/689 [00:00<?, ?it/s]"
      ]
     },
     "metadata": {},
     "output_type": "display_data"
    },
    {
     "data": {
      "application/vnd.jupyter.widget-view+json": {
       "model_id": "0f6fa818fcd74aec9262d558c9e84466",
       "version_major": 2,
       "version_minor": 0
      },
      "text/plain": [
       "Epoch 3/50 [Validasi]:   0%|          | 0/87 [00:00<?, ?it/s]"
      ]
     },
     "metadata": {},
     "output_type": "display_data"
    },
    {
     "name": "stdout",
     "output_type": "stream",
     "text": [
      "Epoch 3/50 - Train Loss: 0.0972, Train Acc: 0.9660 - Val Loss: 0.0775, Val Acc: 0.9713\n",
      "EarlyStopping counter: 2 dari 5\n"
     ]
    },
    {
     "data": {
      "application/vnd.jupyter.widget-view+json": {
       "model_id": "6b57f54fe14844599dcc3fde031565a4",
       "version_major": 2,
       "version_minor": 0
      },
      "text/plain": [
       "Epoch 4/50 [Training]:   0%|          | 0/689 [00:00<?, ?it/s]"
      ]
     },
     "metadata": {},
     "output_type": "display_data"
    },
    {
     "data": {
      "application/vnd.jupyter.widget-view+json": {
       "model_id": "34004fb5d04d43edb5bebd6ccbe13b0e",
       "version_major": 2,
       "version_minor": 0
      },
      "text/plain": [
       "Epoch 4/50 [Validasi]:   0%|          | 0/87 [00:00<?, ?it/s]"
      ]
     },
     "metadata": {},
     "output_type": "display_data"
    },
    {
     "name": "stdout",
     "output_type": "stream",
     "text": [
      "Epoch 4/50 - Train Loss: 0.0893, Train Acc: 0.9683 - Val Loss: 0.0819, Val Acc: 0.9710\n",
      "EarlyStopping counter: 3 dari 5\n"
     ]
    },
    {
     "data": {
      "application/vnd.jupyter.widget-view+json": {
       "model_id": "2eb57099e2534bc3b205ce373cfa4e6d",
       "version_major": 2,
       "version_minor": 0
      },
      "text/plain": [
       "Epoch 5/50 [Training]:   0%|          | 0/689 [00:00<?, ?it/s]"
      ]
     },
     "metadata": {},
     "output_type": "display_data"
    },
    {
     "data": {
      "application/vnd.jupyter.widget-view+json": {
       "model_id": "15df04e9e3c64b088d20a48e487a08ab",
       "version_major": 2,
       "version_minor": 0
      },
      "text/plain": [
       "Epoch 5/50 [Validasi]:   0%|          | 0/87 [00:00<?, ?it/s]"
      ]
     },
     "metadata": {},
     "output_type": "display_data"
    },
    {
     "name": "stdout",
     "output_type": "stream",
     "text": [
      "Epoch 5/50 - Train Loss: 0.0857, Train Acc: 0.9701 - Val Loss: 0.0851, Val Acc: 0.9728\n",
      "Validation metric (max) improved (0.971335 --> 0.972787). Menyimpan model ke /kaggle/working/best_vit_malaria_model.pth ...\n"
     ]
    },
    {
     "data": {
      "application/vnd.jupyter.widget-view+json": {
       "model_id": "4b941d93b4b74a889096276db3e0b4d8",
       "version_major": 2,
       "version_minor": 0
      },
      "text/plain": [
       "Epoch 6/50 [Training]:   0%|          | 0/689 [00:00<?, ?it/s]"
      ]
     },
     "metadata": {},
     "output_type": "display_data"
    },
    {
     "data": {
      "application/vnd.jupyter.widget-view+json": {
       "model_id": "8576d145a30a446b8e817bc86fd9a11e",
       "version_major": 2,
       "version_minor": 0
      },
      "text/plain": [
       "Epoch 6/50 [Validasi]:   0%|          | 0/87 [00:00<?, ?it/s]"
      ]
     },
     "metadata": {},
     "output_type": "display_data"
    },
    {
     "name": "stdout",
     "output_type": "stream",
     "text": [
      "Epoch 6/50 - Train Loss: 0.0840, Train Acc: 0.9709 - Val Loss: 0.0819, Val Acc: 0.9717\n",
      "EarlyStopping counter: 1 dari 5\n"
     ]
    },
    {
     "data": {
      "application/vnd.jupyter.widget-view+json": {
       "model_id": "9e40164840874250bb2214f8bd3b479a",
       "version_major": 2,
       "version_minor": 0
      },
      "text/plain": [
       "Epoch 7/50 [Training]:   0%|          | 0/689 [00:00<?, ?it/s]"
      ]
     },
     "metadata": {},
     "output_type": "display_data"
    },
    {
     "data": {
      "application/vnd.jupyter.widget-view+json": {
       "model_id": "c729583caf324df5b71c79d8d86e7dd3",
       "version_major": 2,
       "version_minor": 0
      },
      "text/plain": [
       "Epoch 7/50 [Validasi]:   0%|          | 0/87 [00:00<?, ?it/s]"
      ]
     },
     "metadata": {},
     "output_type": "display_data"
    },
    {
     "name": "stdout",
     "output_type": "stream",
     "text": [
      "Epoch 7/50 - Train Loss: 0.0796, Train Acc: 0.9721 - Val Loss: 0.1032, Val Acc: 0.9644\n",
      "EarlyStopping counter: 2 dari 5\n"
     ]
    },
    {
     "data": {
      "application/vnd.jupyter.widget-view+json": {
       "model_id": "c2a129a833cf4f02afbd4fe5db374df8",
       "version_major": 2,
       "version_minor": 0
      },
      "text/plain": [
       "Epoch 8/50 [Training]:   0%|          | 0/689 [00:00<?, ?it/s]"
      ]
     },
     "metadata": {},
     "output_type": "display_data"
    },
    {
     "data": {
      "application/vnd.jupyter.widget-view+json": {
       "model_id": "81c5970801f74b149f7099235225312f",
       "version_major": 2,
       "version_minor": 0
      },
      "text/plain": [
       "Epoch 8/50 [Validasi]:   0%|          | 0/87 [00:00<?, ?it/s]"
      ]
     },
     "metadata": {},
     "output_type": "display_data"
    },
    {
     "name": "stdout",
     "output_type": "stream",
     "text": [
      "Epoch 8/50 - Train Loss: 0.0762, Train Acc: 0.9720 - Val Loss: 0.1072, Val Acc: 0.9630\n",
      "EarlyStopping counter: 3 dari 5\n"
     ]
    },
    {
     "data": {
      "application/vnd.jupyter.widget-view+json": {
       "model_id": "2e232c1193484c87b36a78524fd44431",
       "version_major": 2,
       "version_minor": 0
      },
      "text/plain": [
       "Epoch 9/50 [Training]:   0%|          | 0/689 [00:00<?, ?it/s]"
      ]
     },
     "metadata": {},
     "output_type": "display_data"
    },
    {
     "data": {
      "application/vnd.jupyter.widget-view+json": {
       "model_id": "7f28de9e0c954225b744d3c6c9325d32",
       "version_major": 2,
       "version_minor": 0
      },
      "text/plain": [
       "Epoch 9/50 [Validasi]:   0%|          | 0/87 [00:00<?, ?it/s]"
      ]
     },
     "metadata": {},
     "output_type": "display_data"
    },
    {
     "name": "stdout",
     "output_type": "stream",
     "text": [
      "Epoch 9/50 - Train Loss: 0.0761, Train Acc: 0.9726 - Val Loss: 0.0762, Val Acc: 0.9746\n",
      "Validation metric (max) improved (0.972787 --> 0.974601). Menyimpan model ke /kaggle/working/best_vit_malaria_model.pth ...\n"
     ]
    },
    {
     "data": {
      "application/vnd.jupyter.widget-view+json": {
       "model_id": "1326bbd168584edb96151718228c5319",
       "version_major": 2,
       "version_minor": 0
      },
      "text/plain": [
       "Epoch 10/50 [Training]:   0%|          | 0/689 [00:00<?, ?it/s]"
      ]
     },
     "metadata": {},
     "output_type": "display_data"
    },
    {
     "data": {
      "application/vnd.jupyter.widget-view+json": {
       "model_id": "781e1beed0d747d8aa0183a0cf1eeadb",
       "version_major": 2,
       "version_minor": 0
      },
      "text/plain": [
       "Epoch 10/50 [Validasi]:   0%|          | 0/87 [00:00<?, ?it/s]"
      ]
     },
     "metadata": {},
     "output_type": "display_data"
    },
    {
     "name": "stdout",
     "output_type": "stream",
     "text": [
      "Epoch 10/50 - Train Loss: 0.0762, Train Acc: 0.9731 - Val Loss: 0.0774, Val Acc: 0.9750\n",
      "Validation metric (max) improved (0.974601 --> 0.974964). Menyimpan model ke /kaggle/working/best_vit_malaria_model.pth ...\n"
     ]
    },
    {
     "data": {
      "application/vnd.jupyter.widget-view+json": {
       "model_id": "ecc443f04cc84ce6ae63cd8dca3acfb8",
       "version_major": 2,
       "version_minor": 0
      },
      "text/plain": [
       "Epoch 11/50 [Training]:   0%|          | 0/689 [00:00<?, ?it/s]"
      ]
     },
     "metadata": {},
     "output_type": "display_data"
    },
    {
     "data": {
      "application/vnd.jupyter.widget-view+json": {
       "model_id": "bf20d2efeeb848c5bd666bc2ccaa0f47",
       "version_major": 2,
       "version_minor": 0
      },
      "text/plain": [
       "Epoch 11/50 [Validasi]:   0%|          | 0/87 [00:00<?, ?it/s]"
      ]
     },
     "metadata": {},
     "output_type": "display_data"
    },
    {
     "name": "stdout",
     "output_type": "stream",
     "text": [
      "Epoch 11/50 - Train Loss: 0.0723, Train Acc: 0.9741 - Val Loss: 0.0778, Val Acc: 0.9721\n",
      "EarlyStopping counter: 1 dari 5\n"
     ]
    },
    {
     "data": {
      "application/vnd.jupyter.widget-view+json": {
       "model_id": "d4cc93cbd0b540cbb617c9c4b2f1691a",
       "version_major": 2,
       "version_minor": 0
      },
      "text/plain": [
       "Epoch 12/50 [Training]:   0%|          | 0/689 [00:00<?, ?it/s]"
      ]
     },
     "metadata": {},
     "output_type": "display_data"
    },
    {
     "data": {
      "application/vnd.jupyter.widget-view+json": {
       "model_id": "21167bfc6680422dad74eddec2c20362",
       "version_major": 2,
       "version_minor": 0
      },
      "text/plain": [
       "Epoch 12/50 [Validasi]:   0%|          | 0/87 [00:00<?, ?it/s]"
      ]
     },
     "metadata": {},
     "output_type": "display_data"
    },
    {
     "name": "stdout",
     "output_type": "stream",
     "text": [
      "Epoch 12/50 - Train Loss: 0.0721, Train Acc: 0.9742 - Val Loss: 0.0719, Val Acc: 0.9764\n",
      "Validation metric (max) improved (0.974964 --> 0.976415). Menyimpan model ke /kaggle/working/best_vit_malaria_model.pth ...\n"
     ]
    },
    {
     "data": {
      "application/vnd.jupyter.widget-view+json": {
       "model_id": "ffb7becce7cf4e6fba1d4cc1614d8ea2",
       "version_major": 2,
       "version_minor": 0
      },
      "text/plain": [
       "Epoch 13/50 [Training]:   0%|          | 0/689 [00:00<?, ?it/s]"
      ]
     },
     "metadata": {},
     "output_type": "display_data"
    },
    {
     "data": {
      "application/vnd.jupyter.widget-view+json": {
       "model_id": "c734d8d6a80e487fab7999d222c4b5e7",
       "version_major": 2,
       "version_minor": 0
      },
      "text/plain": [
       "Epoch 13/50 [Validasi]:   0%|          | 0/87 [00:00<?, ?it/s]"
      ]
     },
     "metadata": {},
     "output_type": "display_data"
    },
    {
     "name": "stdout",
     "output_type": "stream",
     "text": [
      "Epoch 13/50 - Train Loss: 0.0663, Train Acc: 0.9764 - Val Loss: 0.0758, Val Acc: 0.9731\n",
      "EarlyStopping counter: 1 dari 5\n"
     ]
    },
    {
     "data": {
      "application/vnd.jupyter.widget-view+json": {
       "model_id": "8764e96607a04f9ba648cd06088df5c8",
       "version_major": 2,
       "version_minor": 0
      },
      "text/plain": [
       "Epoch 14/50 [Training]:   0%|          | 0/689 [00:00<?, ?it/s]"
      ]
     },
     "metadata": {},
     "output_type": "display_data"
    },
    {
     "data": {
      "application/vnd.jupyter.widget-view+json": {
       "model_id": "f34def907ea5400b889c1ad3d92bf5de",
       "version_major": 2,
       "version_minor": 0
      },
      "text/plain": [
       "Epoch 14/50 [Validasi]:   0%|          | 0/87 [00:00<?, ?it/s]"
      ]
     },
     "metadata": {},
     "output_type": "display_data"
    },
    {
     "name": "stdout",
     "output_type": "stream",
     "text": [
      "Epoch 14/50 - Train Loss: 0.0690, Train Acc: 0.9752 - Val Loss: 0.0785, Val Acc: 0.9746\n",
      "EarlyStopping counter: 2 dari 5\n"
     ]
    },
    {
     "data": {
      "application/vnd.jupyter.widget-view+json": {
       "model_id": "029fbee843524f2fafee9adbd1cd4077",
       "version_major": 2,
       "version_minor": 0
      },
      "text/plain": [
       "Epoch 15/50 [Training]:   0%|          | 0/689 [00:00<?, ?it/s]"
      ]
     },
     "metadata": {},
     "output_type": "display_data"
    },
    {
     "data": {
      "application/vnd.jupyter.widget-view+json": {
       "model_id": "3e21da64117c471dbe1f2e6327b035e1",
       "version_major": 2,
       "version_minor": 0
      },
      "text/plain": [
       "Epoch 15/50 [Validasi]:   0%|          | 0/87 [00:00<?, ?it/s]"
      ]
     },
     "metadata": {},
     "output_type": "display_data"
    },
    {
     "name": "stdout",
     "output_type": "stream",
     "text": [
      "Epoch 15/50 - Train Loss: 0.0685, Train Acc: 0.9760 - Val Loss: 0.0757, Val Acc: 0.9742\n",
      "EarlyStopping counter: 3 dari 5\n"
     ]
    },
    {
     "data": {
      "application/vnd.jupyter.widget-view+json": {
       "model_id": "101b931d9f774c5d80df690b427bf1ea",
       "version_major": 2,
       "version_minor": 0
      },
      "text/plain": [
       "Epoch 16/50 [Training]:   0%|          | 0/689 [00:00<?, ?it/s]"
      ]
     },
     "metadata": {},
     "output_type": "display_data"
    },
    {
     "data": {
      "application/vnd.jupyter.widget-view+json": {
       "model_id": "80369bc64fac4e4793000ddcc1abb209",
       "version_major": 2,
       "version_minor": 0
      },
      "text/plain": [
       "Epoch 16/50 [Validasi]:   0%|          | 0/87 [00:00<?, ?it/s]"
      ]
     },
     "metadata": {},
     "output_type": "display_data"
    },
    {
     "name": "stdout",
     "output_type": "stream",
     "text": [
      "Epoch 16/50 - Train Loss: 0.0653, Train Acc: 0.9774 - Val Loss: 0.0760, Val Acc: 0.9739\n",
      "EarlyStopping counter: 4 dari 5\n"
     ]
    },
    {
     "data": {
      "application/vnd.jupyter.widget-view+json": {
       "model_id": "64d4e44484a14f07bfe4bd35153eb879",
       "version_major": 2,
       "version_minor": 0
      },
      "text/plain": [
       "Epoch 17/50 [Training]:   0%|          | 0/689 [00:00<?, ?it/s]"
      ]
     },
     "metadata": {},
     "output_type": "display_data"
    },
    {
     "data": {
      "application/vnd.jupyter.widget-view+json": {
       "model_id": "1e4a87978e6a4edfbee803498b113b4e",
       "version_major": 2,
       "version_minor": 0
      },
      "text/plain": [
       "Epoch 17/50 [Validasi]:   0%|          | 0/87 [00:00<?, ?it/s]"
      ]
     },
     "metadata": {},
     "output_type": "display_data"
    },
    {
     "name": "stdout",
     "output_type": "stream",
     "text": [
      "Epoch 17/50 - Train Loss: 0.0630, Train Acc: 0.9777 - Val Loss: 0.0903, Val Acc: 0.9717\n",
      "EarlyStopping counter: 5 dari 5\n",
      "Early stopping dipicu.\n",
      "Training Selesai.\n"
     ]
    }
   ],
   "source": [
    "optimizer = optim.Adam(model.parameters(), lr=LEARNING_RATE)\n",
    "criterion = nn.CrossEntropyLoss()\n",
    "\n",
    "train_losses, val_losses = [], []\n",
    "train_accuracies, val_accuracies = [], []\n",
    "\n",
    "early_stopper = EarlyStopping(\n",
    "    patience=PATIENCE_EARLY_STOPPING,\n",
    "    verbose=True,\n",
    "    delta=DELTA_EARLY_STOPPING,\n",
    "    path=MODEL_SAVE_PATH,\n",
    "    mode='max'\n",
    ")\n",
    "\n",
    "print(\"\\nMemulai Training...\")\n",
    "for epoch in range(NUM_EPOCHS):\n",
    "    model.train()\n",
    "    running_train_loss = 0.0\n",
    "    train_preds_all, train_labels_all = [], []\n",
    "    train_pbar = tqdm(train_loader, desc=f\"Epoch {epoch+1}/{NUM_EPOCHS} [Training]\")\n",
    "\n",
    "    for inputs, labels in train_pbar:\n",
    "        inputs, labels = inputs.to(DEVICE), labels.to(DEVICE)\n",
    "        optimizer.zero_grad()\n",
    "        outputs = model(pixel_values=inputs)\n",
    "        logits = outputs.logits\n",
    "        loss = criterion(logits, labels)\n",
    "        loss.backward()\n",
    "        optimizer.step()\n",
    "\n",
    "        running_train_loss += loss.item() * inputs.size(0)\n",
    "        _, preds = torch.max(logits, 1)\n",
    "        train_preds_all.extend(preds.cpu().numpy())\n",
    "        train_labels_all.extend(labels.cpu().numpy())\n",
    "        train_pbar.set_postfix({'loss': loss.item()})\n",
    "\n",
    "    epoch_train_loss = running_train_loss / len(train_dataset)\n",
    "    epoch_train_accuracy = accuracy_score(train_labels_all, train_preds_all)\n",
    "    train_losses.append(epoch_train_loss)\n",
    "    train_accuracies.append(epoch_train_accuracy)\n",
    "\n",
    "    model.eval()\n",
    "    running_val_loss = 0.0\n",
    "    val_preds_all, val_labels_all = [], []\n",
    "    val_pbar = tqdm(val_loader, desc=f\"Epoch {epoch+1}/{NUM_EPOCHS} [Validasi]\")\n",
    "    with torch.no_grad():\n",
    "        for inputs, labels in val_pbar:\n",
    "            inputs, labels = inputs.to(DEVICE), labels.to(DEVICE)\n",
    "            outputs = model(pixel_values=inputs)\n",
    "            logits = outputs.logits\n",
    "            loss = criterion(logits, labels)\n",
    "            running_val_loss += loss.item() * inputs.size(0)\n",
    "            _, preds = torch.max(logits, 1)\n",
    "            val_preds_all.extend(preds.cpu().numpy())\n",
    "            val_labels_all.extend(labels.cpu().numpy())\n",
    "            val_pbar.set_postfix({'loss': loss.item()})\n",
    "\n",
    "    epoch_val_loss = running_val_loss / len(val_dataset)\n",
    "    epoch_val_accuracy = accuracy_score(val_labels_all, val_preds_all)\n",
    "    val_losses.append(epoch_val_loss)\n",
    "    val_accuracies.append(epoch_val_accuracy)\n",
    "\n",
    "    print(f\"Epoch {epoch+1}/{NUM_EPOCHS} - \"\n",
    "          f\"Train Loss: {epoch_train_loss:.4f}, Train Acc: {epoch_train_accuracy:.4f} - \"\n",
    "          f\"Val Loss: {epoch_val_loss:.4f}, Val Acc: {epoch_val_accuracy:.4f}\")\n",
    "\n",
    "    early_stopper(epoch_val_accuracy, model)\n",
    "    if early_stopper.early_stop:\n",
    "        print(\"Early stopping dipicu.\")\n",
    "        break\n",
    "\n",
    "print(\"Training Selesai.\")"
   ]
  },
  {
   "cell_type": "markdown",
   "metadata": {},
   "source": [
    "# 5. VISUALISASI HASIL TRAINING"
   ]
  },
  {
   "cell_type": "code",
   "execution_count": 6,
   "metadata": {
    "execution": {
     "iopub.execute_input": "2025-06-09T10:10:00.466309Z",
     "iopub.status.busy": "2025-06-09T10:10:00.466096Z",
     "iopub.status.idle": "2025-06-09T10:10:00.909135Z",
     "shell.execute_reply": "2025-06-09T10:10:00.908446Z",
     "shell.execute_reply.started": "2025-06-09T10:10:00.466283Z"
    },
    "trusted": true
   },
   "outputs": [
    {
     "data": {
      "image/png": "[encoded data removed]",
      "text/plain": [
       "<Figure size 1200x500 with 2 Axes>"
      ]
     },
     "metadata": {},
     "output_type": "display_data"
    }
   ],
   "source": [
    "actual_epochs = len(train_losses)\n",
    "plt.figure(figsize=(12, 5))\n",
    "plt.subplot(1, 2, 1)\n",
    "plt.plot(range(1, actual_epochs + 1), train_losses, label='Train Loss')\n",
    "plt.plot(range(1, actual_epochs + 1), val_losses, label='Validation Loss')\n",
    "plt.xlabel('Epoch')\n",
    "plt.ylabel('Loss')\n",
    "plt.title('Training & Validation Loss')\n",
    "plt.legend(); plt.grid(True)\n",
    "\n",
    "plt.subplot(1, 2, 2)\n",
    "plt.plot(range(1, actual_epochs + 1), train_accuracies, label='Train Accuracy')\n",
    "plt.plot(range(1, actual_epochs + 1), val_accuracies, label='Validation Accuracy')\n",
    "plt.xlabel('Epoch'); plt.ylabel('Accuracy'); plt.title('Training & Validation Accuracy')\n",
    "plt.legend(); plt.grid(True)\n",
    "plt.tight_layout(); plt.show()"
   ]
  },
  {
   "cell_type": "markdown",
   "metadata": {},
   "source": [
    "# 6. EVALUASI PADA TEST SET"
   ]
  },
  {
   "cell_type": "code",
   "execution_count": 7,
   "metadata": {
    "execution": {
     "iopub.execute_input": "2025-06-09T10:10:00.910505Z",
     "iopub.status.busy": "2025-06-09T10:10:00.909955Z",
     "iopub.status.idle": "2025-06-09T10:10:49.684937Z",
     "shell.execute_reply": "2025-06-09T10:10:49.684347Z",
     "shell.execute_reply.started": "2025-06-09T10:10:00.910476Z"
    },
    "trusted": true
   },
   "outputs": [
    {
     "name": "stdout",
     "output_type": "stream",
     "text": [
      "\n",
      "Memulai Evaluasi pada Test Set...\n",
      "Model terbaik dimuat dari /kaggle/working/best_vit_malaria_model.pth untuk evaluasi.\n"
     ]
    },
    {
     "data": {
      "application/vnd.jupyter.widget-view+json": {
       "model_id": "8646250bd40f491a99550c0093c03b18",
       "version_major": 2,
       "version_minor": 0
      },
      "text/plain": [
       "Evaluasi Test Set:   0%|          | 0/87 [00:00<?, ?it/s]"
      ]
     },
     "metadata": {},
     "output_type": "display_data"
    },
    {
     "name": "stdout",
     "output_type": "stream",
     "text": [
      "\n",
      "Test Accuracy: 0.9771\n"
     ]
    }
   ],
   "source": [
    "print(\"\\nMemulai Evaluasi pada Test Set...\")\n",
    "if os.path.exists(MODEL_SAVE_PATH):\n",
    "    print(f\"Model terbaik dimuat dari {MODEL_SAVE_PATH} untuk evaluasi.\")\n",
    "    model.load_state_dict(torch.load(MODEL_SAVE_PATH, map_location=DEVICE))\n",
    "else:\n",
    "    print(f\"Tidak ada model yang disimpan di {MODEL_SAVE_PATH}. Menggunakan model dari state terakhir.\")\n",
    "\n",
    "model.eval()\n",
    "test_preds_all, test_labels_all = [], []\n",
    "test_pbar = tqdm(test_loader, desc=\"Evaluasi Test Set\")\n",
    "with torch.no_grad():\n",
    "    for inputs, labels in test_pbar:\n",
    "        inputs, labels = inputs.to(DEVICE), labels.to(DEVICE)\n",
    "        outputs = model(pixel_values=inputs)\n",
    "        logits = outputs.logits\n",
    "        _, preds = torch.max(logits, 1)\n",
    "        test_preds_all.extend(preds.cpu().numpy())\n",
    "        test_labels_all.extend(labels.cpu().numpy())\n",
    "\n",
    "test_accuracy = accuracy_score(test_labels_all, test_preds_all)\n",
    "print(f\"\\nTest Accuracy: {test_accuracy:.4f}\")"
   ]
  },
  {
   "cell_type": "code",
   "execution_count": 8,
   "metadata": {
    "execution": {
     "iopub.execute_input": "2025-06-09T10:10:49.685939Z",
     "iopub.status.busy": "2025-06-09T10:10:49.685659Z",
     "iopub.status.idle": "2025-06-09T10:10:49.845549Z",
     "shell.execute_reply": "2025-06-09T10:10:49.844876Z",
     "shell.execute_reply.started": "2025-06-09T10:10:49.685912Z"
    },
    "trusted": true
   },
   "outputs": [
    {
     "name": "stdout",
     "output_type": "stream",
     "text": [
      "\n",
      "Classification Report:\n",
      "              precision    recall  f1-score   support\n",
      "\n",
      " Parasitized       0.98      0.97      0.98      1378\n",
      "  Uninfected       0.97      0.98      0.98      1378\n",
      "\n",
      "    accuracy                           0.98      2756\n",
      "   macro avg       0.98      0.98      0.98      2756\n",
      "weighted avg       0.98      0.98      0.98      2756\n",
      "\n",
      "\n",
      "Confusion Matrix:\n"
     ]
    },
    {
     "data": {
      "image/png": "[encoded data removed]",
      "text/plain": [
       "<Figure size 700x500 with 2 Axes>"
      ]
     },
     "metadata": {},
     "output_type": "display_data"
    },
    {
     "name": "stdout",
     "output_type": "stream",
     "text": [
      "\n",
      "Selesai.\n"
     ]
    }
   ],
   "source": [
    "# Nama kelas dari dataset kustom kita\n",
    "class_names = test_dataset.classes # ['Parasitized', 'Uninfected']\n",
    "print(\"\\nClassification Report:\")\n",
    "try:\n",
    "    report = classification_report(test_labels_all, test_preds_all, target_names=class_names, zero_division=0)\n",
    "    print(report)\n",
    "except Exception as e:\n",
    "    print(f\"Error membuat classification report: {e}\")\n",
    "    report = classification_report(test_labels_all, test_preds_all, zero_division=0) # Coba tanpa target_names\n",
    "    print(report)\n",
    "\n",
    "\n",
    "print(\"\\nConfusion Matrix:\")\n",
    "cm = confusion_matrix(test_labels_all, test_preds_all)\n",
    "plt.figure(figsize=(7, 5))\n",
    "sns.heatmap(cm, annot=True, fmt='d', cmap='Blues', xticklabels=class_names, yticklabels=class_names)\n",
    "plt.xlabel('Predicted Label'); plt.ylabel('True Label'); plt.title('Confusion Matrix - Test Set')\n",
    "plt.show()\n",
    "\n",
    "print(\"\\nSelesai.\")"
   ]
  }
 ],
 "metadata": {
  "kernelspec": {
   "display_name": "Python 3",
   "language": "python",
   "name": "python3"
  },
  "language_info": {
   "codemirror_mode": {
    "name": "ipython",
    "version": 3
   },
   "file_extension": ".py",
   "mimetype": "text/x-python",
   "name": "python",
   "nbconvert_exporter": "python",
   "pygments_lexer": "ipython3",
   "version": "3.11.11"
  }
 },
 "nbformat": 4,
 "nbformat_minor": 4
}
